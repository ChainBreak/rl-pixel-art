{
 "cells": [
  {
   "cell_type": "markdown",
   "metadata": {},
   "source": [
    "# Imports"
   ]
  },
  {
   "cell_type": "code",
   "execution_count": null,
   "metadata": {},
   "outputs": [],
   "source": [
    "import cv2\n",
    "import torch\n",
    "import torch.nn as nn\n",
    "import torch.optim\n",
    "import matplotlib.pyplot as plt\n",
    "import numpy as np\n",
    "from torch.distributions.bernoulli import Bernoulli\n"
   ]
  },
  {
   "cell_type": "markdown",
   "metadata": {},
   "source": [
    "# Generator"
   ]
  },
  {
   "cell_type": "code",
   "execution_count": null,
   "metadata": {},
   "outputs": [],
   "source": [
    "class PixelGenerator(nn.Module):\n",
    "    def __init__(self,h,w):\n",
    "        super().__init__()\n",
    "        self.logits = nn.Parameter(torch.zeros((h,w)),requires_grad = True)\n",
    "    \n",
    "    def forward(self):\n",
    "        return Bernoulli(logits=self.logits)\n",
    "    \n",
    "    def get_image(self):\n",
    "        bernoulli = self()\n",
    "        half_img = bernoulli.sample()\n",
    "        full_img = torch.cat([half_img,half_img.flip(1)],1)\n",
    "        return half_img, full_img\n",
    "    \n",
    "    def log_prob(self,img_batch):\n",
    "        bernoulli = self()\n",
    "        return bernoulli.log_prob(img_batch)\n"
   ]
  },
  {
   "cell_type": "markdown",
   "metadata": {},
   "source": [
    "# Training Loop"
   ]
  },
  {
   "cell_type": "code",
   "execution_count": null,
   "metadata": {},
   "outputs": [],
   "source": [
    "def get_user_reward():\n",
    "    while True:\n",
    "        key = cv2.waitKey(100)\n",
    "        if key < 0:\n",
    "            continue\n",
    "        if key >= ord(\"0\") and  key <= ord(\"9\"):\n",
    "            reward = key - ord(\"0\")\n",
    "            if reward == 0:\n",
    "                reward = 10\n",
    "            return float(reward)\n",
    "        else:\n",
    "            print(\"Use keys 1-10(0)\")\n"
   ]
  },
  {
   "cell_type": "code",
   "execution_count": null,
   "metadata": {},
   "outputs": [],
   "source": [
    "test_img = torch.tensor(\n",
    "[\n",
    "    [0,0,0,0,1,1,0,0,0,0.0],\n",
    "    [0,0,0,1,1,1,1,0,0,0],\n",
    "    [0,0,0,1,1,1,1,0,0,0],\n",
    "    [0,0,0,0,1,1,0,0,0,0],\n",
    "    [0,0,0,0,1,1,0,0,0,0],\n",
    "    [0,0,0,0,1,1,0,0,0,0],\n",
    "    [0,0,0,1,1,1,1,0,0,0],\n",
    "    [0,0,1,1,1,1,1,1,0,0],\n",
    "    [0,1,1,1,1,1,1,1,1,0],\n",
    "    [0,1,1,1,1,1,1,1,1,0],\n",
    "]) \n",
    "def get_test_reward(full_img):\n",
    "    cv2.waitKey(10)\n",
    "    same = full_img == test_img\n",
    "    count = float(same.sum())\n",
    "    reward = (count / 10.0)\n",
    "    return reward\n",
    "\n"
   ]
  },
  {
   "cell_type": "code",
   "execution_count": null,
   "metadata": {},
   "outputs": [],
   "source": [
    "name = \"cat\"\n",
    "cv2.namedWindow(name,0)\n",
    "cv2.namedWindow(\"logits\",0)\n",
    "\n",
    "batch_size = 32\n",
    "\n",
    "buffer = [] # [(half_img, full_img, reward)]\n",
    "generator = PixelGenerator(10,5)\n",
    "optimiser = torch.optim.SGD(generator.parameters(),lr=1.0)\n",
    "\n",
    "while True:\n",
    "    #get the half and full image from the generator\n",
    "    #The full image is just the half image flipped and concatenated\n",
    "    half_img,full_img = generator.get_image()\n",
    "    \n",
    "    #show image to the user for feedback\n",
    "    cv2.imshow(name,full_img.numpy())\n",
    "    \n",
    "    #show the generator probabilities\n",
    "    cv2.imshow(\"logits\",generator().probs.data.numpy())\n",
    "    \n",
    "    #get the reward from the user\n",
    "    reward = get_user_reward()\n",
    "    \n",
    "#     reward = get_test_reward(full_img)\n",
    "    \n",
    "    #record the experience\n",
    "    buffer.append((half_img,full_img,reward))\n",
    "\n",
    "    #once we have collected enough for a batch lets update\n",
    "    if len(buffer) % batch_size == 0:\n",
    "\n",
    "        #get the latest batch from the buffer\n",
    "        batch_list = buffer[-batch_size:]\n",
    "        \n",
    "        #rezip so that all the tuples get split into separate lists\n",
    "        half_img, full_img, reward = list(zip(*batch_list))\n",
    "        \n",
    "        #Stack the images into a batch\n",
    "        img_batch= torch.stack(half_img)\n",
    "        \n",
    "        #turn the rewards into a tensor and reshape so its broadcastable with the lob probs\n",
    "        reward_batch = torch.tensor(reward).reshape(-1,1,1)\n",
    "        \n",
    "        #mean shift the reward batch\n",
    "        reward_batch -= reward_batch.mean()\n",
    "\n",
    "        #calculate the log prob of picking each pixel\n",
    "        log_prob_batch = generator.log_prob(img_batch)\n",
    "        \n",
    "        #loss is negative log scaled by reward all summed up\n",
    "        loss = (-log_prob_batch * reward_batch).sum()\n",
    "        \n",
    "        #step the optimizer\n",
    "        optimiser.zero_grad()\n",
    "        loss.backward()\n",
    "        optimiser.step()\n",
    "        \n",
    "        \n",
    "    \n",
    "cv2.destroyAllWindows()"
   ]
  },
  {
   "cell_type": "code",
   "execution_count": null,
   "metadata": {},
   "outputs": [],
   "source": [
    "cv2.namedWindow(\"frog\",0)\n",
    "for _,full_img,_ in frog:\n",
    "    cv2.imshow(\"frog\",full_img.numpy())\n",
    "    cv2.waitKey(100)\n",
    "    \n"
   ]
  },
  {
   "cell_type": "markdown",
   "metadata": {},
   "source": []
  },
  {
   "cell_type": "code",
   "execution_count": null,
   "metadata": {},
   "outputs": [],
   "source": [
    "cv2.destroyAllWindows()"
   ]
  },
  {
   "cell_type": "markdown",
   "metadata": {},
   "source": []
  },
  {
   "cell_type": "markdown",
   "metadata": {},
   "source": [
    "# Criterion"
   ]
  },
  {
   "cell_type": "markdown",
   "metadata": {},
   "source": []
  },
  {
   "cell_type": "markdown",
   "metadata": {},
   "source": []
  },
  {
   "cell_type": "code",
   "execution_count": null,
   "metadata": {},
   "outputs": [],
   "source": [
    "logits = torch.tensor([[1.0,2.0],[3.0,0.0]])\n",
    "m = Bernoulli(logits=logits)\n",
    "s = m.sample() \n",
    "torch.exp(m.log_prob(s))\n"
   ]
  },
  {
   "cell_type": "code",
   "execution_count": null,
   "metadata": {},
   "outputs": [],
   "source": [
    "a = [(1,2),(2,4),(5,6)]\n",
    "list(zip(*a))"
   ]
  }
 ],
 "metadata": {
  "kernelspec": {
   "display_name": "Python 3",
   "language": "python",
   "name": "python3"
  },
  "language_info": {
   "codemirror_mode": {
    "name": "ipython",
    "version": 3
   },
   "file_extension": ".py",
   "mimetype": "text/x-python",
   "name": "python",
   "nbconvert_exporter": "python",
   "pygments_lexer": "ipython3",
   "version": "3.6.8"
  }
 },
 "nbformat": 4,
 "nbformat_minor": 2
}
